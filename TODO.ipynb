{
 "cells": [
  {
   "cell_type": "markdown",
   "metadata": {},
   "source": [
    "# TODO\n",
    "### Data Cleaning - Clean values of rent, city, size\n",
    "### Data Profile - FInd the counts of furnished/unfurnished\n",
    "### Quantification - Find out what's important and weigh them against each other. Possible for city, and furnishing status\n",
    "### Model - tweak. Need closer to 1 coeff of determination and mas mababa mean squared error\n",
    "\n",
    "# For Write-up\n",
    "### Two column format"
   ]
  }
 ],
 "metadata": {
  "language_info": {
   "name": "python"
  }
 },
 "nbformat": 4,
 "nbformat_minor": 2
}
