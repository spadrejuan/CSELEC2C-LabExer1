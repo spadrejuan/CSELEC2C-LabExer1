{
 "cells": [
  {
   "cell_type": "code",
   "execution_count": 402,
   "id": "7f589a7a-2e95-4c65-b12f-60315a705317",
   "metadata": {},
   "outputs": [],
   "source": [
    "import numpy as np\n",
    "import pandas as pd\n",
    "import matplotlib.pyplot as plt\n",
    "import seaborn as sns"
   ]
  },
  {
   "cell_type": "code",
   "execution_count": 403,
   "id": "7e7695f6-06cf-4399-b22e-b32aff29cf0e",
   "metadata": {},
   "outputs": [],
   "source": [
    "### Loading the Dataset\n",
    "data = pd.read_csv(\"House_Rent_Dataset.csv\")"
   ]
  },
  {
   "cell_type": "markdown",
   "id": "87fa6fc5",
   "metadata": {},
   "source": [
    "## Data Profiling"
   ]
  },
  {
   "cell_type": "code",
   "execution_count": 404,
   "id": "17e679d8",
   "metadata": {},
   "outputs": [
    {
     "name": "stdout",
     "output_type": "stream",
     "text": [
      "<class 'pandas.core.frame.DataFrame'>\n",
      "RangeIndex: 4746 entries, 0 to 4745\n",
      "Data columns (total 12 columns):\n",
      " #   Column             Non-Null Count  Dtype \n",
      "---  ------             --------------  ----- \n",
      " 0   Posted On          4746 non-null   object\n",
      " 1   BHK                4746 non-null   int64 \n",
      " 2   Rent               4746 non-null   int64 \n",
      " 3   Size               4746 non-null   int64 \n",
      " 4   Floor              4746 non-null   object\n",
      " 5   Area Type          4746 non-null   object\n",
      " 6   Area Locality      4746 non-null   object\n",
      " 7   City               4746 non-null   object\n",
      " 8   Furnishing Status  4746 non-null   object\n",
      " 9   Tenant Preferred   4746 non-null   object\n",
      " 10  Bathroom           4746 non-null   int64 \n",
      " 11  Point of Contact   4746 non-null   object\n",
      "dtypes: int64(4), object(8)\n",
      "memory usage: 445.1+ KB\n"
     ]
    }
   ],
   "source": [
    "data.info() # read all the possible features in the CSV"
   ]
  },
  {
   "cell_type": "code",
   "execution_count": 405,
   "id": "dbf58503",
   "metadata": {},
   "outputs": [
    {
     "data": {
      "text/plain": [
       "Posted On            0\n",
       "BHK                  0\n",
       "Rent                 0\n",
       "Size                 0\n",
       "Floor                0\n",
       "Area Type            0\n",
       "Area Locality        0\n",
       "City                 0\n",
       "Furnishing Status    0\n",
       "Tenant Preferred     0\n",
       "Bathroom             0\n",
       "Point of Contact     0\n",
       "dtype: int64"
      ]
     },
     "execution_count": 405,
     "metadata": {},
     "output_type": "execute_result"
    }
   ],
   "source": [
    "data.isnull().sum() # check for nullity"
   ]
  },
  {
   "cell_type": "code",
   "execution_count": 406,
   "id": "b3ba3ce0",
   "metadata": {},
   "outputs": [
    {
     "data": {
      "text/plain": [
       "<bound method NDFrame.head of        Posted On  BHK   Rent  Size            Floor    Area Type  \\\n",
       "0     2022-05-18    2  10000  1100  Ground out of 2   Super Area   \n",
       "1     2022-05-13    2  20000   800       1 out of 3   Super Area   \n",
       "2     2022-05-16    2  17000  1000       1 out of 3   Super Area   \n",
       "3     2022-07-04    2  10000   800       1 out of 2   Super Area   \n",
       "4     2022-05-09    2   7500   850       1 out of 2  Carpet Area   \n",
       "...          ...  ...    ...   ...              ...          ...   \n",
       "4741  2022-05-18    2  15000  1000       3 out of 5  Carpet Area   \n",
       "4742  2022-05-15    3  29000  2000       1 out of 4   Super Area   \n",
       "4743  2022-07-10    3  35000  1750       3 out of 5  Carpet Area   \n",
       "4744  2022-07-06    3  45000  1500     23 out of 34  Carpet Area   \n",
       "4745  2022-05-04    2  15000  1000       4 out of 5  Carpet Area   \n",
       "\n",
       "                 Area Locality       City Furnishing Status  Tenant Preferred  \\\n",
       "0                       Bandel    Kolkata       Unfurnished  Bachelors/Family   \n",
       "1     Phool Bagan, Kankurgachi    Kolkata    Semi-Furnished  Bachelors/Family   \n",
       "2      Salt Lake City Sector 2    Kolkata    Semi-Furnished  Bachelors/Family   \n",
       "3                  Dumdum Park    Kolkata       Unfurnished  Bachelors/Family   \n",
       "4                South Dum Dum    Kolkata       Unfurnished         Bachelors   \n",
       "...                        ...        ...               ...               ...   \n",
       "4741              Bandam Kommu  Hyderabad    Semi-Furnished  Bachelors/Family   \n",
       "4742      Manikonda, Hyderabad  Hyderabad    Semi-Furnished  Bachelors/Family   \n",
       "4743      Himayath Nagar, NH 7  Hyderabad    Semi-Furnished  Bachelors/Family   \n",
       "4744                Gachibowli  Hyderabad    Semi-Furnished            Family   \n",
       "4745           Suchitra Circle  Hyderabad       Unfurnished         Bachelors   \n",
       "\n",
       "      Bathroom Point of Contact  \n",
       "0            2    Contact Owner  \n",
       "1            1    Contact Owner  \n",
       "2            1    Contact Owner  \n",
       "3            1    Contact Owner  \n",
       "4            1    Contact Owner  \n",
       "...        ...              ...  \n",
       "4741         2    Contact Owner  \n",
       "4742         3    Contact Owner  \n",
       "4743         3    Contact Agent  \n",
       "4744         2    Contact Agent  \n",
       "4745         2    Contact Owner  \n",
       "\n",
       "[4746 rows x 12 columns]>"
      ]
     },
     "execution_count": 406,
     "metadata": {},
     "output_type": "execute_result"
    }
   ],
   "source": [
    "data.head # quick overview of the csv"
   ]
  },
  {
   "cell_type": "markdown",
   "id": "040613a8",
   "metadata": {},
   "source": [
    "## Data Cleaning"
   ]
  },
  {
   "cell_type": "code",
   "execution_count": 407,
   "id": "ce6b7b22",
   "metadata": {},
   "outputs": [
    {
     "data": {
      "text/plain": [
       "array(['Ground out of 2', '1 out of 3', '1 out of 2', 'Ground out of 1',\n",
       "       'Ground out of 4', '1 out of 4', '1 out of 1', 'Ground out of 3',\n",
       "       '2 out of 3', '4 out of 5', '2 out of 2', '2 out of 5',\n",
       "       '4 out of 14', '3 out of 3', '5 out of 5', '4 out of 4',\n",
       "       '7 out of 8', '2 out of 4', '3 out of 4', '1 out of 5',\n",
       "       '8 out of 5', 'Ground out of 6', '2 out of 1',\n",
       "       'Upper Basement out of 4', 'Ground out of 5', '3 out of 5',\n",
       "       '11 out of 19', '5 out of 10', '11 out of 14',\n",
       "       'Lower Basement out of 2', '2 out of 7', '4 out of 10',\n",
       "       '7 out of 10', '2 out of 13', '6 out of 7', '4 out of 7',\n",
       "       '14 out of 14', '43 out of 78', '2 out of 8', '13 out of 18',\n",
       "       '5 out of 12', '18 out of 24', '3 out of 7', '17 out of 31',\n",
       "       '11 out of 21', '7 out of 19', '14 out of 23', '9 out of 20',\n",
       "       'Upper Basement out of 9', '19 out of 24', '3 out of 21',\n",
       "       '1 out of 22', '8 out of 8', '6 out of 12', '4 out of 58',\n",
       "       'Upper Basement out of 16', '60 out of 66', '34 out of 48',\n",
       "       '5 out of 8', '5 out of 14', '14 out of 40', '5 out of 7',\n",
       "       '9 out of 22', '12 out of 18', '26 out of 44', '1 out of 8',\n",
       "       '25 out of 42', '25 out of 41', '53 out of 78', 'Ground out of 7',\n",
       "       '14 out of 20', '13 out of 20', '16 out of 23', '10 out of 18',\n",
       "       '39 out of 60', '16 out of 21', '10 out of 32', '4 out of 8',\n",
       "       '12 out of 24', '32 out of 41', '3 out of 30', '13 out of 21',\n",
       "       '9 out of 29', '47 out of 89', '7 out of 41', '28 out of 30',\n",
       "       '13 out of 15', '6 out of 21', '8 out of 16', '2 out of 6',\n",
       "       '5 out of 19', '3 out of 11', '17 out of 42', '10 out of 12',\n",
       "       '8 out of 28', '9 out of 15', '14 out of 22', '18 out of 40',\n",
       "       '9 out of 17', '12 out of 45', '25 out of 35', '7 out of 15',\n",
       "       '10 out of 16', 'Upper Basement out of 20', '5 out of 20',\n",
       "       'Upper Basement out of 40', '5 out of 18', '34 out of 58',\n",
       "       '4 out of 6', '20 out of 22', '12 out of 19', '15 out of 18',\n",
       "       '65 out of 78', '6 out of 16', '17 out of 22', '6 out of 24',\n",
       "       '40 out of 75', '19 out of 38', '15 out of 31', '11 out of 28',\n",
       "       '10 out of 22', '17 out of 24', '15 out of 19', '9 out of 10',\n",
       "       '7 out of 12', '8 out of 20', '11 out of 13', '9 out of 19',\n",
       "       '37 out of 51', '6 out of 11', '8 out of 15', '11 out of 20',\n",
       "       '10 out of 23', 'Upper Basement out of 10', '7 out of 23',\n",
       "       '4 out of 11', '17 out of 43', '7 out of 22', '14 out of 18',\n",
       "       '6 out of 10', '8 out of 12', '3 out of 18', '7 out of 7',\n",
       "       '14 out of 58', '18 out of 23', '19 out of 19', '13 out of 14',\n",
       "       '7 out of 11', '11 out of 22', 'Upper Basement out of 30',\n",
       "       '12 out of 14', '16 out of 31', '12 out of 13', '11 out of 51',\n",
       "       '2 out of 12', '22 out of 24', '7 out of 14', '5 out of 13',\n",
       "       '7 out of 21', '14 out of 21', '17 out of 25', '9 out of 14',\n",
       "       '8 out of 27', '3 out of 6', '17 out of 20', '18 out of 22',\n",
       "       '1 out of 7', '9 out of 30', '3 out of 8', '11 out of 26',\n",
       "       '17 out of 27', '4 out of 12', '12 out of 16', '10 out of 24',\n",
       "       '65 out of 76', '7 out of 9', '17 out of 60', '10 out of 11',\n",
       "       '18 out of 25', '5 out of 11', '15 out of 17', '15 out of 23',\n",
       "       '5 out of 17', '3 out of 28', '5 out of 24', '16 out of 32',\n",
       "       '21 out of 22', '7 out of 13', '9 out of 12', '15 out of 32',\n",
       "       '18 out of 27', '15 out of 16', '18 out of 45', '15 out of 15',\n",
       "       '6 out of 14', '1 out of 20', '16 out of 36', '30 out of 44',\n",
       "       '30 out of 37', '2 out of 9', '12 out of 22', '4 out of 9',\n",
       "       '2 out of 22', '5 out of 6', '6 out of 18', '35 out of 55',\n",
       "       '16 out of 29', '30 out of 45', '5 out of 9', '16 out of 25',\n",
       "       '33 out of 42', '4 out of 16', '13 out of 23', '9 out of 38',\n",
       "       '6 out of 8', '8 out of 13', '19 out of 30', '10 out of 14',\n",
       "       '11 out of 24', '9 out of 16', '9 out of 31', '4 out of 15',\n",
       "       '3 out of 9', '22 out of 30', '3 out of 58', '1 out of 9',\n",
       "       '53 out of 60', '5 out of 22', '15 out of 22', '19 out of 21',\n",
       "       '9 out of 40', 'Ground out of 8', '44 out of 75', '8 out of 17',\n",
       "       '3 out of 14', '12 out of 31', '26 out of 42', '2 out of 45',\n",
       "       '12 out of 68', '17 out of 36', '10 out of 28', '41 out of 41',\n",
       "       '14 out of 68', '14 out of 17', '15 out of 20', '46 out of 76',\n",
       "       '12 out of 20', '20 out of 30', '18 out of 32', '10 out of 25',\n",
       "       '17 out of 29', '10 out of 31', '10 out of 15', '13 out of 16',\n",
       "       '8 out of 10', '18 out of 21', '27 out of 58', '1 out of 6',\n",
       "       '19 out of 25', '3 out of 15', '25 out of 43', '8 out of 14',\n",
       "       '11 out of 12', '9 out of 21', '10 out of 13', '45 out of 77',\n",
       "       '18 out of 19', '10 out of 20', '12 out of 29',\n",
       "       'Lower Basement out of 18', '15 out of 24', '48 out of 68',\n",
       "       '12 out of 42', '16 out of 22', '35 out of 68', '18 out of 30',\n",
       "       '11 out of 31', '50 out of 75', '18 out of 26', '12 out of 27',\n",
       "       '16 out of 20', '24 out of 55', '16 out of 37',\n",
       "       'Upper Basement out of 7', '6 out of 15', '11 out of 27',\n",
       "       '11 out of 23', '3 out of 12', '14 out of 15', '23 out of 25',\n",
       "       '14 out of 48', '29 out of 35', '15 out of 36', '15 out of 25',\n",
       "       '15 out of 28', '3 out of 36', '8 out of 11', '6 out of 20',\n",
       "       '23 out of 23', '5 out of 15', '16 out of 18', '2 out of 10',\n",
       "       '40 out of 50', '25 out of 28', '12 out of 17', '34 out of 40',\n",
       "       'Upper Basement out of 22', '8 out of 23', '5 out of 21',\n",
       "       '32 out of 59', '20 out of 32', '9 out of 18', '10 out of 37',\n",
       "       '25 out of 48', '4 out of 22', '8 out of 18', '11 out of 11',\n",
       "       '5 out of 23', '60 out of 77', '11 out of 18', '4 out of 20',\n",
       "       '5 out of 16', '3 out of 13', '30 out of 58', '15 out of 43',\n",
       "       '7 out of 16', '18 out of 28', '9 out of 55', '11 out of 25',\n",
       "       '49 out of 55', '7 out of 27', '14 out of 27', '16 out of 27',\n",
       "       '25 out of 50', '6 out of 30', '21 out of 23', '8 out of 58',\n",
       "       '20 out of 41', '3 out of 62', '4 out of 13', '7 out of 17',\n",
       "       '12 out of 21', '28 out of 39', '15 out of 58', '6 out of 23',\n",
       "       '36 out of 45', '9 out of 28', '6 out of 45', '22 out of 52',\n",
       "       '10 out of 19', '21 out of 58', '48 out of 54', '7 out of 28',\n",
       "       '11 out of 15', '19 out of 22', '15 out of 37', '2 out of 17',\n",
       "       '76 out of 78', '3 out of 10', '20 out of 27', '8 out of 36',\n",
       "       '14 out of 33', '21 out of 21', '12 out of 25', '18 out of 29',\n",
       "       '14 out of 35', '7 out of 20', '20 out of 37', '9 out of 35',\n",
       "       '27 out of 27', '15 out of 60', '19 out of 33', '18 out of 20',\n",
       "       '13 out of 40', '9 out of 11', '8 out of 22', '6 out of 13',\n",
       "       '20 out of 31', '27 out of 45', '19 out of 20', '32 out of 46',\n",
       "       '19 out of 85', '3 out of 23', '34 out of 46', '4 out of 27',\n",
       "       '19 out of 27', '35 out of 60', '21 out of 33', '25 out of 52',\n",
       "       '2 out of 24', '24 out of 24', '18 out of 33', '1 out of 10',\n",
       "       '45 out of 60', '60 out of 71', '36 out of 81', '24 out of 60',\n",
       "       '16 out of 38', '8 out of 45', 'Ground out of 16', '8 out of 32',\n",
       "       '10 out of 10', '23 out of 40', '7 out of 18', '8 out of 19',\n",
       "       '6 out of 17', '16 out of 34', 'Ground out of 12', '6 out of 9',\n",
       "       'Ground out of 18', '20 out of 25', '3 out of 22', '9 out of 32',\n",
       "       '26 out of 32', '17 out of 18', '24 out of 25', '19 out of 26',\n",
       "       '17 out of 19', '1 out of 13', '14 out of 30', '8 out of 9',\n",
       "       '3 out of 17', 'Lower Basement out of 3', '12 out of 23',\n",
       "       'Ground out of 9', '1 out of 24', '1 out of 12', '3', 'Ground',\n",
       "       '15 out of 29', '20 out of 20', '14 out of 29',\n",
       "       'Lower Basement out of 1', '13 out of 17', '1 out of 14',\n",
       "       'Upper Basement out of 2', '2 out of 14', '24 out of 31',\n",
       "       '2 out of 32', '2 out of 16', '9 out of 13', '1 out of 11',\n",
       "       '6 out of 29', '9 out of 9', '28 out of 31', '1 out of 15',\n",
       "       'Ground out of 14', '2 out of 11', '19 out of 31', '1 out of 16',\n",
       "       '25 out of 32', '11 out of 16', '11 out of 17',\n",
       "       'Upper Basement out of 3', '4 out of 24', '1 out of 19',\n",
       "       '7 out of 30', '16 out of 19', 'Upper Basement out of 5',\n",
       "       'Ground out of 13', '2 out of 25', '23 out of 30', '4 out of 30',\n",
       "       '13 out of 25', '23 out of 35', 'Ground out of 10', '5 out of 34',\n",
       "       '20 out of 35', '1', '4 out of 31', '4 out of 26', '24 out of 33',\n",
       "       '4 out of 17', '1 out of 35', '11 out of 35', 'Ground out of 15',\n",
       "       'Ground out of 27', '15 out of 30', '12 out of 30', '23 out of 34'],\n",
       "      dtype=object)"
      ]
     },
     "execution_count": 407,
     "metadata": {},
     "output_type": "execute_result"
    }
   ],
   "source": [
    "data['Floor'].unique()"
   ]
  },
  {
   "cell_type": "code",
   "execution_count": 408,
   "id": "be720612",
   "metadata": {},
   "outputs": [
    {
     "data": {
      "text/plain": [
       "Floor\n",
       "1 out of 2         379\n",
       "Ground out of 2    350\n",
       "2 out of 3         312\n",
       "2 out of 4         308\n",
       "1 out of 3         293\n",
       "                  ... \n",
       "11 out of 31         1\n",
       "50 out of 75         1\n",
       "18 out of 26         1\n",
       "12 out of 27         1\n",
       "23 out of 34         1\n",
       "Name: count, Length: 480, dtype: int64"
      ]
     },
     "execution_count": 408,
     "metadata": {},
     "output_type": "execute_result"
    }
   ],
   "source": [
    "# Clean floor errors like \"3 out of 2\" or standalone values like \"Ground\" (for consistency)\n",
    "floor_data = data['Floor']\n",
    "floor_data.value_counts()"
   ]
  },
  {
   "cell_type": "code",
   "execution_count": 409,
   "id": "26c02e89",
   "metadata": {},
   "outputs": [
    {
     "data": {
      "text/html": [
       "<div>\n",
       "<style scoped>\n",
       "    .dataframe tbody tr th:only-of-type {\n",
       "        vertical-align: middle;\n",
       "    }\n",
       "\n",
       "    .dataframe tbody tr th {\n",
       "        vertical-align: top;\n",
       "    }\n",
       "\n",
       "    .dataframe thead th {\n",
       "        text-align: right;\n",
       "    }\n",
       "</style>\n",
       "<table border=\"1\" class=\"dataframe\">\n",
       "  <thead>\n",
       "    <tr style=\"text-align: right;\">\n",
       "      <th></th>\n",
       "      <th>Posted On</th>\n",
       "      <th>BHK</th>\n",
       "      <th>Rent</th>\n",
       "      <th>Size</th>\n",
       "      <th>Floor</th>\n",
       "      <th>Area Type</th>\n",
       "      <th>Area Locality</th>\n",
       "      <th>City</th>\n",
       "      <th>Furnishing Status</th>\n",
       "      <th>Tenant Preferred</th>\n",
       "      <th>Bathroom</th>\n",
       "      <th>Point of Contact</th>\n",
       "    </tr>\n",
       "  </thead>\n",
       "  <tbody>\n",
       "    <tr>\n",
       "      <th>0</th>\n",
       "      <td>2022-05-18</td>\n",
       "      <td>2</td>\n",
       "      <td>10000</td>\n",
       "      <td>1100</td>\n",
       "      <td>Ground out of 2</td>\n",
       "      <td>Super Area</td>\n",
       "      <td>Bandel</td>\n",
       "      <td>Kolkata</td>\n",
       "      <td>Unfurnished</td>\n",
       "      <td>Bachelors/Family</td>\n",
       "      <td>2</td>\n",
       "      <td>Contact Owner</td>\n",
       "    </tr>\n",
       "    <tr>\n",
       "      <th>1</th>\n",
       "      <td>2022-05-13</td>\n",
       "      <td>2</td>\n",
       "      <td>20000</td>\n",
       "      <td>800</td>\n",
       "      <td>1 out of 3</td>\n",
       "      <td>Super Area</td>\n",
       "      <td>Phool Bagan, Kankurgachi</td>\n",
       "      <td>Kolkata</td>\n",
       "      <td>Semi-Furnished</td>\n",
       "      <td>Bachelors/Family</td>\n",
       "      <td>1</td>\n",
       "      <td>Contact Owner</td>\n",
       "    </tr>\n",
       "    <tr>\n",
       "      <th>2</th>\n",
       "      <td>2022-05-16</td>\n",
       "      <td>2</td>\n",
       "      <td>17000</td>\n",
       "      <td>1000</td>\n",
       "      <td>1 out of 3</td>\n",
       "      <td>Super Area</td>\n",
       "      <td>Salt Lake City Sector 2</td>\n",
       "      <td>Kolkata</td>\n",
       "      <td>Semi-Furnished</td>\n",
       "      <td>Bachelors/Family</td>\n",
       "      <td>1</td>\n",
       "      <td>Contact Owner</td>\n",
       "    </tr>\n",
       "    <tr>\n",
       "      <th>3</th>\n",
       "      <td>2022-07-04</td>\n",
       "      <td>2</td>\n",
       "      <td>10000</td>\n",
       "      <td>800</td>\n",
       "      <td>1 out of 2</td>\n",
       "      <td>Super Area</td>\n",
       "      <td>Dumdum Park</td>\n",
       "      <td>Kolkata</td>\n",
       "      <td>Unfurnished</td>\n",
       "      <td>Bachelors/Family</td>\n",
       "      <td>1</td>\n",
       "      <td>Contact Owner</td>\n",
       "    </tr>\n",
       "    <tr>\n",
       "      <th>4</th>\n",
       "      <td>2022-05-09</td>\n",
       "      <td>2</td>\n",
       "      <td>7500</td>\n",
       "      <td>850</td>\n",
       "      <td>1 out of 2</td>\n",
       "      <td>Carpet Area</td>\n",
       "      <td>South Dum Dum</td>\n",
       "      <td>Kolkata</td>\n",
       "      <td>Unfurnished</td>\n",
       "      <td>Bachelors</td>\n",
       "      <td>1</td>\n",
       "      <td>Contact Owner</td>\n",
       "    </tr>\n",
       "    <tr>\n",
       "      <th>...</th>\n",
       "      <td>...</td>\n",
       "      <td>...</td>\n",
       "      <td>...</td>\n",
       "      <td>...</td>\n",
       "      <td>...</td>\n",
       "      <td>...</td>\n",
       "      <td>...</td>\n",
       "      <td>...</td>\n",
       "      <td>...</td>\n",
       "      <td>...</td>\n",
       "      <td>...</td>\n",
       "      <td>...</td>\n",
       "    </tr>\n",
       "    <tr>\n",
       "      <th>4741</th>\n",
       "      <td>2022-05-18</td>\n",
       "      <td>2</td>\n",
       "      <td>15000</td>\n",
       "      <td>1000</td>\n",
       "      <td>3 out of 5</td>\n",
       "      <td>Carpet Area</td>\n",
       "      <td>Bandam Kommu</td>\n",
       "      <td>Hyderabad</td>\n",
       "      <td>Semi-Furnished</td>\n",
       "      <td>Bachelors/Family</td>\n",
       "      <td>2</td>\n",
       "      <td>Contact Owner</td>\n",
       "    </tr>\n",
       "    <tr>\n",
       "      <th>4742</th>\n",
       "      <td>2022-05-15</td>\n",
       "      <td>3</td>\n",
       "      <td>29000</td>\n",
       "      <td>2000</td>\n",
       "      <td>1 out of 4</td>\n",
       "      <td>Super Area</td>\n",
       "      <td>Manikonda, Hyderabad</td>\n",
       "      <td>Hyderabad</td>\n",
       "      <td>Semi-Furnished</td>\n",
       "      <td>Bachelors/Family</td>\n",
       "      <td>3</td>\n",
       "      <td>Contact Owner</td>\n",
       "    </tr>\n",
       "    <tr>\n",
       "      <th>4743</th>\n",
       "      <td>2022-07-10</td>\n",
       "      <td>3</td>\n",
       "      <td>35000</td>\n",
       "      <td>1750</td>\n",
       "      <td>3 out of 5</td>\n",
       "      <td>Carpet Area</td>\n",
       "      <td>Himayath Nagar, NH 7</td>\n",
       "      <td>Hyderabad</td>\n",
       "      <td>Semi-Furnished</td>\n",
       "      <td>Bachelors/Family</td>\n",
       "      <td>3</td>\n",
       "      <td>Contact Agent</td>\n",
       "    </tr>\n",
       "    <tr>\n",
       "      <th>4744</th>\n",
       "      <td>2022-07-06</td>\n",
       "      <td>3</td>\n",
       "      <td>45000</td>\n",
       "      <td>1500</td>\n",
       "      <td>23 out of 34</td>\n",
       "      <td>Carpet Area</td>\n",
       "      <td>Gachibowli</td>\n",
       "      <td>Hyderabad</td>\n",
       "      <td>Semi-Furnished</td>\n",
       "      <td>Family</td>\n",
       "      <td>2</td>\n",
       "      <td>Contact Agent</td>\n",
       "    </tr>\n",
       "    <tr>\n",
       "      <th>4745</th>\n",
       "      <td>2022-05-04</td>\n",
       "      <td>2</td>\n",
       "      <td>15000</td>\n",
       "      <td>1000</td>\n",
       "      <td>4 out of 5</td>\n",
       "      <td>Carpet Area</td>\n",
       "      <td>Suchitra Circle</td>\n",
       "      <td>Hyderabad</td>\n",
       "      <td>Unfurnished</td>\n",
       "      <td>Bachelors</td>\n",
       "      <td>2</td>\n",
       "      <td>Contact Owner</td>\n",
       "    </tr>\n",
       "  </tbody>\n",
       "</table>\n",
       "<p>4350 rows × 12 columns</p>\n",
       "</div>"
      ],
      "text/plain": [
       "       Posted On  BHK   Rent  Size            Floor    Area Type  \\\n",
       "0     2022-05-18    2  10000  1100  Ground out of 2   Super Area   \n",
       "1     2022-05-13    2  20000   800       1 out of 3   Super Area   \n",
       "2     2022-05-16    2  17000  1000       1 out of 3   Super Area   \n",
       "3     2022-07-04    2  10000   800       1 out of 2   Super Area   \n",
       "4     2022-05-09    2   7500   850       1 out of 2  Carpet Area   \n",
       "...          ...  ...    ...   ...              ...          ...   \n",
       "4741  2022-05-18    2  15000  1000       3 out of 5  Carpet Area   \n",
       "4742  2022-05-15    3  29000  2000       1 out of 4   Super Area   \n",
       "4743  2022-07-10    3  35000  1750       3 out of 5  Carpet Area   \n",
       "4744  2022-07-06    3  45000  1500     23 out of 34  Carpet Area   \n",
       "4745  2022-05-04    2  15000  1000       4 out of 5  Carpet Area   \n",
       "\n",
       "                 Area Locality       City Furnishing Status  Tenant Preferred  \\\n",
       "0                       Bandel    Kolkata       Unfurnished  Bachelors/Family   \n",
       "1     Phool Bagan, Kankurgachi    Kolkata    Semi-Furnished  Bachelors/Family   \n",
       "2      Salt Lake City Sector 2    Kolkata    Semi-Furnished  Bachelors/Family   \n",
       "3                  Dumdum Park    Kolkata       Unfurnished  Bachelors/Family   \n",
       "4                South Dum Dum    Kolkata       Unfurnished         Bachelors   \n",
       "...                        ...        ...               ...               ...   \n",
       "4741              Bandam Kommu  Hyderabad    Semi-Furnished  Bachelors/Family   \n",
       "4742      Manikonda, Hyderabad  Hyderabad    Semi-Furnished  Bachelors/Family   \n",
       "4743      Himayath Nagar, NH 7  Hyderabad    Semi-Furnished  Bachelors/Family   \n",
       "4744                Gachibowli  Hyderabad    Semi-Furnished            Family   \n",
       "4745           Suchitra Circle  Hyderabad       Unfurnished         Bachelors   \n",
       "\n",
       "      Bathroom Point of Contact  \n",
       "0            2    Contact Owner  \n",
       "1            1    Contact Owner  \n",
       "2            1    Contact Owner  \n",
       "3            1    Contact Owner  \n",
       "4            1    Contact Owner  \n",
       "...        ...              ...  \n",
       "4741         2    Contact Owner  \n",
       "4742         3    Contact Owner  \n",
       "4743         3    Contact Agent  \n",
       "4744         2    Contact Agent  \n",
       "4745         2    Contact Owner  \n",
       "\n",
       "[4350 rows x 12 columns]"
      ]
     },
     "execution_count": 409,
     "metadata": {},
     "output_type": "execute_result"
    }
   ],
   "source": [
    "def validate_floors(floors_str):\n",
    "    try:\n",
    "        parts = floors_str.split(\" out of \")\n",
    "        if len(parts) != 2:\n",
    "            return False\n",
    "        x, y = parts\n",
    "        if x <= y:\n",
    "            return True\n",
    "        elif x == 'Ground':\n",
    "            return True\n",
    "        elif x == 'Upper Basement' or x == 'Lower Basement':\n",
    "            return True\n",
    "        else:\n",
    "            return False\n",
    "    except:\n",
    "        return False\n",
    "# Assuming your DataFrame is called 'data'\n",
    "# Apply the validation function to the 'floors' column\n",
    "floor_filter = data['Floor'].apply(validate_floors)\n",
    "# Filter out the rows with incorrect values in the 'floors' column\n",
    "cleaned_floor_data = data[floor_filter]\n",
    "cleaned_floor_data # This is now the dataset with cleaned data of the Floors column\n"
   ]
  },
  {
   "cell_type": "markdown",
   "id": "058fb9be",
   "metadata": {},
   "source": [
    "## Data Analysis"
   ]
  },
  {
   "cell_type": "code",
   "execution_count": 410,
   "id": "608bff19",
   "metadata": {},
   "outputs": [
    {
     "data": {
      "text/plain": [
       "<BarContainer object of 6 artists>"
      ]
     },
     "execution_count": 410,
     "metadata": {},
     "output_type": "execute_result"
    },
    {
     "data": {
      "image/png": "[encoded data removed]",
      "text/plain": [
       "<Figure size 640x480 with 1 Axes>"
      ]
     },
     "metadata": {},
     "output_type": "display_data"
    }
   ],
   "source": [
    "plt.bar(cleaned_floor_data['BHK'].value_counts().index, data['BHK'].value_counts().values) # BHK can be used as a feature"
   ]
  },
  {
   "cell_type": "code",
   "execution_count": 411,
   "id": "b44b5ee1",
   "metadata": {},
   "outputs": [
    {
     "data": {
      "text/plain": [
       "<seaborn.axisgrid.FacetGrid at 0x1dc97aff0e0>"
      ]
     },
     "execution_count": 411,
     "metadata": {},
     "output_type": "execute_result"
    },
    {
     "data": {
      "image/png": "[encoded data removed]",
      "text/plain": [
       "<Figure size 500x500 with 1 Axes>"
      ]
     },
     "metadata": {},
     "output_type": "display_data"
    }
   ],
   "source": [
    "sns.displot(cleaned_floor_data['Rent']) # too many outliers can affect the final output of the model. It will skew the value upwards."
   ]
  },
  {
   "cell_type": "code",
   "execution_count": 412,
   "id": "69c71569",
   "metadata": {},
   "outputs": [
    {
     "data": {
      "text/plain": [
       "count    4.350000e+03\n",
       "mean     3.130881e+04\n",
       "std      7.510355e+04\n",
       "min      1.200000e+03\n",
       "25%      1.000000e+04\n",
       "50%      1.500000e+04\n",
       "75%      2.800000e+04\n",
       "max      3.500000e+06\n",
       "Name: Rent, dtype: float64"
      ]
     },
     "execution_count": 412,
     "metadata": {},
     "output_type": "execute_result"
    }
   ],
   "source": [
    "cleaned_floor_data['Rent'].describe() # Lots of abnormal outliers"
   ]
  },
  {
   "cell_type": "code",
   "execution_count": 413,
   "id": "8ea1a495",
   "metadata": {},
   "outputs": [
    {
     "data": {
      "text/html": [
       "<div>\n",
       "<style scoped>\n",
       "    .dataframe tbody tr th:only-of-type {\n",
       "        vertical-align: middle;\n",
       "    }\n",
       "\n",
       "    .dataframe tbody tr th {\n",
       "        vertical-align: top;\n",
       "    }\n",
       "\n",
       "    .dataframe thead th {\n",
       "        text-align: right;\n",
       "    }\n",
       "</style>\n",
       "<table border=\"1\" class=\"dataframe\">\n",
       "  <thead>\n",
       "    <tr style=\"text-align: right;\">\n",
       "      <th></th>\n",
       "      <th>Posted On</th>\n",
       "      <th>BHK</th>\n",
       "      <th>Rent</th>\n",
       "      <th>Size</th>\n",
       "      <th>Floor</th>\n",
       "      <th>Area Type</th>\n",
       "      <th>Area Locality</th>\n",
       "      <th>City</th>\n",
       "      <th>Furnishing Status</th>\n",
       "      <th>Tenant Preferred</th>\n",
       "      <th>Bathroom</th>\n",
       "      <th>Point of Contact</th>\n",
       "    </tr>\n",
       "  </thead>\n",
       "  <tbody>\n",
       "    <tr>\n",
       "      <th>0</th>\n",
       "      <td>2022-05-18</td>\n",
       "      <td>2</td>\n",
       "      <td>10000</td>\n",
       "      <td>1100</td>\n",
       "      <td>Ground out of 2</td>\n",
       "      <td>Super Area</td>\n",
       "      <td>Bandel</td>\n",
       "      <td>Kolkata</td>\n",
       "      <td>Unfurnished</td>\n",
       "      <td>Bachelors/Family</td>\n",
       "      <td>2</td>\n",
       "      <td>Contact Owner</td>\n",
       "    </tr>\n",
       "    <tr>\n",
       "      <th>1</th>\n",
       "      <td>2022-05-13</td>\n",
       "      <td>2</td>\n",
       "      <td>20000</td>\n",
       "      <td>800</td>\n",
       "      <td>1 out of 3</td>\n",
       "      <td>Super Area</td>\n",
       "      <td>Phool Bagan, Kankurgachi</td>\n",
       "      <td>Kolkata</td>\n",
       "      <td>Semi-Furnished</td>\n",
       "      <td>Bachelors/Family</td>\n",
       "      <td>1</td>\n",
       "      <td>Contact Owner</td>\n",
       "    </tr>\n",
       "    <tr>\n",
       "      <th>2</th>\n",
       "      <td>2022-05-16</td>\n",
       "      <td>2</td>\n",
       "      <td>17000</td>\n",
       "      <td>1000</td>\n",
       "      <td>1 out of 3</td>\n",
       "      <td>Super Area</td>\n",
       "      <td>Salt Lake City Sector 2</td>\n",
       "      <td>Kolkata</td>\n",
       "      <td>Semi-Furnished</td>\n",
       "      <td>Bachelors/Family</td>\n",
       "      <td>1</td>\n",
       "      <td>Contact Owner</td>\n",
       "    </tr>\n",
       "    <tr>\n",
       "      <th>3</th>\n",
       "      <td>2022-07-04</td>\n",
       "      <td>2</td>\n",
       "      <td>10000</td>\n",
       "      <td>800</td>\n",
       "      <td>1 out of 2</td>\n",
       "      <td>Super Area</td>\n",
       "      <td>Dumdum Park</td>\n",
       "      <td>Kolkata</td>\n",
       "      <td>Unfurnished</td>\n",
       "      <td>Bachelors/Family</td>\n",
       "      <td>1</td>\n",
       "      <td>Contact Owner</td>\n",
       "    </tr>\n",
       "    <tr>\n",
       "      <th>6</th>\n",
       "      <td>2022-06-21</td>\n",
       "      <td>2</td>\n",
       "      <td>10000</td>\n",
       "      <td>700</td>\n",
       "      <td>Ground out of 4</td>\n",
       "      <td>Super Area</td>\n",
       "      <td>Malancha</td>\n",
       "      <td>Kolkata</td>\n",
       "      <td>Unfurnished</td>\n",
       "      <td>Bachelors</td>\n",
       "      <td>2</td>\n",
       "      <td>Contact Agent</td>\n",
       "    </tr>\n",
       "    <tr>\n",
       "      <th>...</th>\n",
       "      <td>...</td>\n",
       "      <td>...</td>\n",
       "      <td>...</td>\n",
       "      <td>...</td>\n",
       "      <td>...</td>\n",
       "      <td>...</td>\n",
       "      <td>...</td>\n",
       "      <td>...</td>\n",
       "      <td>...</td>\n",
       "      <td>...</td>\n",
       "      <td>...</td>\n",
       "      <td>...</td>\n",
       "    </tr>\n",
       "    <tr>\n",
       "      <th>4741</th>\n",
       "      <td>2022-05-18</td>\n",
       "      <td>2</td>\n",
       "      <td>15000</td>\n",
       "      <td>1000</td>\n",
       "      <td>3 out of 5</td>\n",
       "      <td>Carpet Area</td>\n",
       "      <td>Bandam Kommu</td>\n",
       "      <td>Hyderabad</td>\n",
       "      <td>Semi-Furnished</td>\n",
       "      <td>Bachelors/Family</td>\n",
       "      <td>2</td>\n",
       "      <td>Contact Owner</td>\n",
       "    </tr>\n",
       "    <tr>\n",
       "      <th>4742</th>\n",
       "      <td>2022-05-15</td>\n",
       "      <td>3</td>\n",
       "      <td>29000</td>\n",
       "      <td>2000</td>\n",
       "      <td>1 out of 4</td>\n",
       "      <td>Super Area</td>\n",
       "      <td>Manikonda, Hyderabad</td>\n",
       "      <td>Hyderabad</td>\n",
       "      <td>Semi-Furnished</td>\n",
       "      <td>Bachelors/Family</td>\n",
       "      <td>3</td>\n",
       "      <td>Contact Owner</td>\n",
       "    </tr>\n",
       "    <tr>\n",
       "      <th>4743</th>\n",
       "      <td>2022-07-10</td>\n",
       "      <td>3</td>\n",
       "      <td>35000</td>\n",
       "      <td>1750</td>\n",
       "      <td>3 out of 5</td>\n",
       "      <td>Carpet Area</td>\n",
       "      <td>Himayath Nagar, NH 7</td>\n",
       "      <td>Hyderabad</td>\n",
       "      <td>Semi-Furnished</td>\n",
       "      <td>Bachelors/Family</td>\n",
       "      <td>3</td>\n",
       "      <td>Contact Agent</td>\n",
       "    </tr>\n",
       "    <tr>\n",
       "      <th>4744</th>\n",
       "      <td>2022-07-06</td>\n",
       "      <td>3</td>\n",
       "      <td>45000</td>\n",
       "      <td>1500</td>\n",
       "      <td>23 out of 34</td>\n",
       "      <td>Carpet Area</td>\n",
       "      <td>Gachibowli</td>\n",
       "      <td>Hyderabad</td>\n",
       "      <td>Semi-Furnished</td>\n",
       "      <td>Family</td>\n",
       "      <td>2</td>\n",
       "      <td>Contact Agent</td>\n",
       "    </tr>\n",
       "    <tr>\n",
       "      <th>4745</th>\n",
       "      <td>2022-05-04</td>\n",
       "      <td>2</td>\n",
       "      <td>15000</td>\n",
       "      <td>1000</td>\n",
       "      <td>4 out of 5</td>\n",
       "      <td>Carpet Area</td>\n",
       "      <td>Suchitra Circle</td>\n",
       "      <td>Hyderabad</td>\n",
       "      <td>Unfurnished</td>\n",
       "      <td>Bachelors</td>\n",
       "      <td>2</td>\n",
       "      <td>Contact Owner</td>\n",
       "    </tr>\n",
       "  </tbody>\n",
       "</table>\n",
       "<p>3119 rows × 12 columns</p>\n",
       "</div>"
      ],
      "text/plain": [
       "       Posted On  BHK   Rent  Size            Floor    Area Type  \\\n",
       "0     2022-05-18    2  10000  1100  Ground out of 2   Super Area   \n",
       "1     2022-05-13    2  20000   800       1 out of 3   Super Area   \n",
       "2     2022-05-16    2  17000  1000       1 out of 3   Super Area   \n",
       "3     2022-07-04    2  10000   800       1 out of 2   Super Area   \n",
       "6     2022-06-21    2  10000   700  Ground out of 4   Super Area   \n",
       "...          ...  ...    ...   ...              ...          ...   \n",
       "4741  2022-05-18    2  15000  1000       3 out of 5  Carpet Area   \n",
       "4742  2022-05-15    3  29000  2000       1 out of 4   Super Area   \n",
       "4743  2022-07-10    3  35000  1750       3 out of 5  Carpet Area   \n",
       "4744  2022-07-06    3  45000  1500     23 out of 34  Carpet Area   \n",
       "4745  2022-05-04    2  15000  1000       4 out of 5  Carpet Area   \n",
       "\n",
       "                 Area Locality       City Furnishing Status  Tenant Preferred  \\\n",
       "0                       Bandel    Kolkata       Unfurnished  Bachelors/Family   \n",
       "1     Phool Bagan, Kankurgachi    Kolkata    Semi-Furnished  Bachelors/Family   \n",
       "2      Salt Lake City Sector 2    Kolkata    Semi-Furnished  Bachelors/Family   \n",
       "3                  Dumdum Park    Kolkata       Unfurnished  Bachelors/Family   \n",
       "6                     Malancha    Kolkata       Unfurnished         Bachelors   \n",
       "...                        ...        ...               ...               ...   \n",
       "4741              Bandam Kommu  Hyderabad    Semi-Furnished  Bachelors/Family   \n",
       "4742      Manikonda, Hyderabad  Hyderabad    Semi-Furnished  Bachelors/Family   \n",
       "4743      Himayath Nagar, NH 7  Hyderabad    Semi-Furnished  Bachelors/Family   \n",
       "4744                Gachibowli  Hyderabad    Semi-Furnished            Family   \n",
       "4745           Suchitra Circle  Hyderabad       Unfurnished         Bachelors   \n",
       "\n",
       "      Bathroom Point of Contact  \n",
       "0            2    Contact Owner  \n",
       "1            1    Contact Owner  \n",
       "2            1    Contact Owner  \n",
       "3            1    Contact Owner  \n",
       "6            2    Contact Agent  \n",
       "...        ...              ...  \n",
       "4741         2    Contact Owner  \n",
       "4742         3    Contact Owner  \n",
       "4743         3    Contact Agent  \n",
       "4744         2    Contact Agent  \n",
       "4745         2    Contact Owner  \n",
       "\n",
       "[3119 rows x 12 columns]"
      ]
     },
     "execution_count": 413,
     "metadata": {},
     "output_type": "execute_result"
    }
   ],
   "source": [
    "# Define the lower and upper percentile thresholds\n",
    "lower_percentile = 0.15  # To represent the lower end of house prices\n",
    "upper_percentile = 0.85  # To represent the higher end of house prices\n",
    "\n",
    "# Calculate the quantiles\n",
    "lower_threshold = cleaned_floor_data['Rent'].quantile(lower_percentile)\n",
    "upper_threshold = cleaned_floor_data['Rent'].quantile(upper_percentile)\n",
    "\n",
    "# Filter out the rows with rent values outside the thresholds\n",
    "no_rent_outliers = cleaned_floor_data[(cleaned_floor_data['Rent'] >= lower_threshold) & (cleaned_floor_data['Rent'] <= upper_threshold)]\n",
    "no_rent_outliers\n"
   ]
  },
  {
   "cell_type": "code",
   "execution_count": 414,
   "id": "527fe990",
   "metadata": {},
   "outputs": [
    {
     "data": {
      "text/plain": [
       "count     3119.000000\n",
       "mean     18156.227316\n",
       "std       9324.267964\n",
       "min       8000.000000\n",
       "25%      11000.000000\n",
       "50%      15000.000000\n",
       "75%      22000.000000\n",
       "max      45000.000000\n",
       "Name: Rent, dtype: float64"
      ]
     },
     "execution_count": 414,
     "metadata": {},
     "output_type": "execute_result"
    }
   ],
   "source": [
    "no_rent_outliers['Rent'].describe() # more reasonable prices"
   ]
  },
  {
   "cell_type": "code",
   "execution_count": 415,
   "id": "e657909c",
   "metadata": {},
   "outputs": [
    {
     "data": {
      "text/plain": [
       "<seaborn.axisgrid.FacetGrid at 0x1dc96d5dbb0>"
      ]
     },
     "execution_count": 415,
     "metadata": {},
     "output_type": "execute_result"
    },
    {
     "data": {
      "image/png": "[encoded data removed]",
      "text/plain": [
       "<Figure size 500x500 with 1 Axes>"
      ]
     },
     "metadata": {},
     "output_type": "display_data"
    }
   ],
   "source": [
    "sns.displot(no_rent_outliers['Rent'])"
   ]
  },
  {
   "cell_type": "code",
   "execution_count": 416,
   "id": "8f77228c",
   "metadata": {},
   "outputs": [
    {
     "data": {
      "text/plain": [
       "<seaborn.axisgrid.FacetGrid at 0x1dc98bc76e0>"
      ]
     },
     "execution_count": 416,
     "metadata": {},
     "output_type": "execute_result"
    },
    {
     "data": {
      "image/png": "[encoded data removed]",
      "text/plain": [
       "<Figure size 500x500 with 1 Axes>"
      ]
     },
     "metadata": {},
     "output_type": "display_data"
    }
   ],
   "source": [
    "sns.displot(no_rent_outliers['Size']) # Reasonable sizes. No need to adjust"
   ]
  },
  {
   "cell_type": "code",
   "execution_count": 417,
   "id": "c39f7239",
   "metadata": {},
   "outputs": [
    {
     "data": {
      "text/plain": [
       "<seaborn.axisgrid.FacetGrid at 0x1dc997764e0>"
      ]
     },
     "execution_count": 417,
     "metadata": {},
     "output_type": "execute_result"
    },
    {
     "data": {
      "image/png": "[encoded data removed]",
      "text/plain": [
       "<Figure size 500x500 with 1 Axes>"
      ]
     },
     "metadata": {},
     "output_type": "display_data"
    }
   ],
   "source": [
    "sns.displot(no_rent_outliers['Bathroom']) # Reasonable sizes. No need to adjust"
   ]
  },
  {
   "cell_type": "code",
   "execution_count": 418,
   "id": "8ff3d309",
   "metadata": {},
   "outputs": [
    {
     "data": {
      "text/plain": [
       "Floor\n",
       "1 out of 2         276\n",
       "2 out of 4         258\n",
       "Ground out of 2    238\n",
       "2 out of 3         234\n",
       "1 out of 3         226\n",
       "                  ... \n",
       "11 out of 31         1\n",
       "16 out of 22         1\n",
       "13 out of 18         1\n",
       "13 out of 16         1\n",
       "23 out of 34         1\n",
       "Name: count, Length: 193, dtype: int64"
      ]
     },
     "execution_count": 418,
     "metadata": {},
     "output_type": "execute_result"
    }
   ],
   "source": [
    "no_rent_outliers['Floor'].value_counts()"
   ]
  },
  {
   "cell_type": "code",
   "execution_count": 419,
   "id": "48861341",
   "metadata": {},
   "outputs": [
    {
     "data": {
      "text/plain": [
       "Area Type\n",
       "Super Area     1829\n",
       "Carpet Area    1289\n",
       "Built Area        1\n",
       "Name: count, dtype: int64"
      ]
     },
     "execution_count": 419,
     "metadata": {},
     "output_type": "execute_result"
    }
   ],
   "source": [
    "no_rent_outliers['Area Type'].value_counts()"
   ]
  },
  {
   "cell_type": "code",
   "execution_count": 420,
   "id": "3439cac4",
   "metadata": {},
   "outputs": [
    {
     "data": {
      "text/plain": [
       "Area Locality\n",
       "Miyapur, NH 9                     21\n",
       "Electronic City                   20\n",
       "Velachery                         20\n",
       "Madipakkam                        18\n",
       "Kondapur                          17\n",
       "                                  ..\n",
       "Chikkalasandra                     1\n",
       "New Bel Road                       1\n",
       "Shampura, Kaval Byrasandra         1\n",
       "Maruthi Extesnion, Rajajinagar     1\n",
       "Manikonda, Hyderabad               1\n",
       "Name: count, Length: 1572, dtype: int64"
      ]
     },
     "execution_count": 420,
     "metadata": {},
     "output_type": "execute_result"
    }
   ],
   "source": [
    "no_rent_outliers['Area Locality'].value_counts()"
   ]
  },
  {
   "cell_type": "code",
   "execution_count": 421,
   "id": "9904abd1",
   "metadata": {},
   "outputs": [
    {
     "name": "stderr",
     "output_type": "stream",
     "text": [
      "C:\\Users\\Shaun Padrejuan\\AppData\\Local\\Temp\\ipykernel_6620\\2958588575.py:2: SettingWithCopyWarning: \n",
      "A value is trying to be set on a copy of a slice from a DataFrame.\n",
      "Try using .loc[row_indexer,col_indexer] = value instead\n",
      "\n",
      "See the caveats in the documentation: https://pandas.pydata.org/pandas-docs/stable/user_guide/indexing.html#returning-a-view-versus-a-copy\n",
      "  no_rent_outliers['Area Locality'] = no_rent_outliers['Area Locality'].apply(lambda x: f'\"{x}\"')\n"
     ]
    },
    {
     "data": {
      "text/plain": [
       "Area Locality\n",
       "\"Miyapur, NH 9\"                     21\n",
       "\"Electronic City\"                   20\n",
       "\"Velachery\"                         20\n",
       "\"Madipakkam\"                        18\n",
       "\"Kondapur\"                          17\n",
       "                                    ..\n",
       "\"Chikkalasandra\"                     1\n",
       "\"New Bel Road\"                       1\n",
       "\"Shampura, Kaval Byrasandra\"         1\n",
       "\"Maruthi Extesnion, Rajajinagar\"     1\n",
       "\"Manikonda, Hyderabad\"               1\n",
       "Name: count, Length: 1572, dtype: int64"
      ]
     },
     "execution_count": 421,
     "metadata": {},
     "output_type": "execute_result"
    }
   ],
   "source": [
    "# Fix the format of Area Locality for uniformity\n",
    "no_rent_outliers['Area Locality'] = no_rent_outliers['Area Locality'].apply(lambda x: f'\"{x}\"')\n",
    "no_rent_outliers['Area Locality'].value_counts()\n"
   ]
  },
  {
   "cell_type": "code",
   "execution_count": 422,
   "id": "adba647a",
   "metadata": {},
   "outputs": [
    {
     "data": {
      "text/plain": [
       "Furnishing Status\n",
       "Semi-Furnished    1553\n",
       "Unfurnished       1177\n",
       "Furnished          389\n",
       "Name: count, dtype: int64"
      ]
     },
     "execution_count": 422,
     "metadata": {},
     "output_type": "execute_result"
    }
   ],
   "source": [
    "no_rent_outliers['Furnishing Status'].value_counts()"
   ]
  },
  {
   "cell_type": "code",
   "execution_count": 423,
   "id": "90cfabeb",
   "metadata": {},
   "outputs": [
    {
     "data": {
      "text/plain": [
       "Tenant Preferred\n",
       "Bachelors/Family    2299\n",
       "Bachelors            539\n",
       "Family               281\n",
       "Name: count, dtype: int64"
      ]
     },
     "execution_count": 423,
     "metadata": {},
     "output_type": "execute_result"
    }
   ],
   "source": [
    "no_rent_outliers['Tenant Preferred'].value_counts()"
   ]
  },
  {
   "cell_type": "code",
   "execution_count": 424,
   "id": "237a4857",
   "metadata": {},
   "outputs": [
    {
     "data": {
      "text/plain": [
       "Point of Contact\n",
       "Contact Owner    2460\n",
       "Contact Agent     659\n",
       "Name: count, dtype: int64"
      ]
     },
     "execution_count": 424,
     "metadata": {},
     "output_type": "execute_result"
    }
   ],
   "source": [
    "no_rent_outliers['Point of Contact'].value_counts()"
   ]
  },
  {
   "cell_type": "markdown",
   "id": "5a61eb53",
   "metadata": {},
   "source": [
    "## Data Preprocessing"
   ]
  },
  {
   "cell_type": "code",
   "execution_count": 425,
   "id": "829074ee",
   "metadata": {},
   "outputs": [
    {
     "data": {
      "text/html": [
       "<div>\n",
       "<style scoped>\n",
       "    .dataframe tbody tr th:only-of-type {\n",
       "        vertical-align: middle;\n",
       "    }\n",
       "\n",
       "    .dataframe tbody tr th {\n",
       "        vertical-align: top;\n",
       "    }\n",
       "\n",
       "    .dataframe thead th {\n",
       "        text-align: right;\n",
       "    }\n",
       "</style>\n",
       "<table border=\"1\" class=\"dataframe\">\n",
       "  <thead>\n",
       "    <tr style=\"text-align: right;\">\n",
       "      <th></th>\n",
       "      <th>BHK</th>\n",
       "      <th>Rent</th>\n",
       "      <th>Size</th>\n",
       "      <th>Floor</th>\n",
       "      <th>Area Type</th>\n",
       "      <th>Area Locality</th>\n",
       "      <th>City</th>\n",
       "      <th>Furnishing Status</th>\n",
       "      <th>Tenant Preferred</th>\n",
       "      <th>Bathroom</th>\n",
       "      <th>Point of Contact</th>\n",
       "    </tr>\n",
       "  </thead>\n",
       "  <tbody>\n",
       "    <tr>\n",
       "      <th>0</th>\n",
       "      <td>2</td>\n",
       "      <td>10000</td>\n",
       "      <td>1100</td>\n",
       "      <td>Ground out of 2</td>\n",
       "      <td>Super Area</td>\n",
       "      <td>\"Bandel\"</td>\n",
       "      <td>Kolkata</td>\n",
       "      <td>Unfurnished</td>\n",
       "      <td>Bachelors/Family</td>\n",
       "      <td>2</td>\n",
       "      <td>Contact Owner</td>\n",
       "    </tr>\n",
       "    <tr>\n",
       "      <th>1</th>\n",
       "      <td>2</td>\n",
       "      <td>20000</td>\n",
       "      <td>800</td>\n",
       "      <td>1 out of 3</td>\n",
       "      <td>Super Area</td>\n",
       "      <td>\"Phool Bagan, Kankurgachi\"</td>\n",
       "      <td>Kolkata</td>\n",
       "      <td>Semi-Furnished</td>\n",
       "      <td>Bachelors/Family</td>\n",
       "      <td>1</td>\n",
       "      <td>Contact Owner</td>\n",
       "    </tr>\n",
       "    <tr>\n",
       "      <th>2</th>\n",
       "      <td>2</td>\n",
       "      <td>17000</td>\n",
       "      <td>1000</td>\n",
       "      <td>1 out of 3</td>\n",
       "      <td>Super Area</td>\n",
       "      <td>\"Salt Lake City Sector 2\"</td>\n",
       "      <td>Kolkata</td>\n",
       "      <td>Semi-Furnished</td>\n",
       "      <td>Bachelors/Family</td>\n",
       "      <td>1</td>\n",
       "      <td>Contact Owner</td>\n",
       "    </tr>\n",
       "    <tr>\n",
       "      <th>3</th>\n",
       "      <td>2</td>\n",
       "      <td>10000</td>\n",
       "      <td>800</td>\n",
       "      <td>1 out of 2</td>\n",
       "      <td>Super Area</td>\n",
       "      <td>\"Dumdum Park\"</td>\n",
       "      <td>Kolkata</td>\n",
       "      <td>Unfurnished</td>\n",
       "      <td>Bachelors/Family</td>\n",
       "      <td>1</td>\n",
       "      <td>Contact Owner</td>\n",
       "    </tr>\n",
       "    <tr>\n",
       "      <th>6</th>\n",
       "      <td>2</td>\n",
       "      <td>10000</td>\n",
       "      <td>700</td>\n",
       "      <td>Ground out of 4</td>\n",
       "      <td>Super Area</td>\n",
       "      <td>\"Malancha\"</td>\n",
       "      <td>Kolkata</td>\n",
       "      <td>Unfurnished</td>\n",
       "      <td>Bachelors</td>\n",
       "      <td>2</td>\n",
       "      <td>Contact Agent</td>\n",
       "    </tr>\n",
       "    <tr>\n",
       "      <th>...</th>\n",
       "      <td>...</td>\n",
       "      <td>...</td>\n",
       "      <td>...</td>\n",
       "      <td>...</td>\n",
       "      <td>...</td>\n",
       "      <td>...</td>\n",
       "      <td>...</td>\n",
       "      <td>...</td>\n",
       "      <td>...</td>\n",
       "      <td>...</td>\n",
       "      <td>...</td>\n",
       "    </tr>\n",
       "    <tr>\n",
       "      <th>4741</th>\n",
       "      <td>2</td>\n",
       "      <td>15000</td>\n",
       "      <td>1000</td>\n",
       "      <td>3 out of 5</td>\n",
       "      <td>Carpet Area</td>\n",
       "      <td>\"Bandam Kommu\"</td>\n",
       "      <td>Hyderabad</td>\n",
       "      <td>Semi-Furnished</td>\n",
       "      <td>Bachelors/Family</td>\n",
       "      <td>2</td>\n",
       "      <td>Contact Owner</td>\n",
       "    </tr>\n",
       "    <tr>\n",
       "      <th>4742</th>\n",
       "      <td>3</td>\n",
       "      <td>29000</td>\n",
       "      <td>2000</td>\n",
       "      <td>1 out of 4</td>\n",
       "      <td>Super Area</td>\n",
       "      <td>\"Manikonda, Hyderabad\"</td>\n",
       "      <td>Hyderabad</td>\n",
       "      <td>Semi-Furnished</td>\n",
       "      <td>Bachelors/Family</td>\n",
       "      <td>3</td>\n",
       "      <td>Contact Owner</td>\n",
       "    </tr>\n",
       "    <tr>\n",
       "      <th>4743</th>\n",
       "      <td>3</td>\n",
       "      <td>35000</td>\n",
       "      <td>1750</td>\n",
       "      <td>3 out of 5</td>\n",
       "      <td>Carpet Area</td>\n",
       "      <td>\"Himayath Nagar, NH 7\"</td>\n",
       "      <td>Hyderabad</td>\n",
       "      <td>Semi-Furnished</td>\n",
       "      <td>Bachelors/Family</td>\n",
       "      <td>3</td>\n",
       "      <td>Contact Agent</td>\n",
       "    </tr>\n",
       "    <tr>\n",
       "      <th>4744</th>\n",
       "      <td>3</td>\n",
       "      <td>45000</td>\n",
       "      <td>1500</td>\n",
       "      <td>23 out of 34</td>\n",
       "      <td>Carpet Area</td>\n",
       "      <td>\"Gachibowli\"</td>\n",
       "      <td>Hyderabad</td>\n",
       "      <td>Semi-Furnished</td>\n",
       "      <td>Family</td>\n",
       "      <td>2</td>\n",
       "      <td>Contact Agent</td>\n",
       "    </tr>\n",
       "    <tr>\n",
       "      <th>4745</th>\n",
       "      <td>2</td>\n",
       "      <td>15000</td>\n",
       "      <td>1000</td>\n",
       "      <td>4 out of 5</td>\n",
       "      <td>Carpet Area</td>\n",
       "      <td>\"Suchitra Circle\"</td>\n",
       "      <td>Hyderabad</td>\n",
       "      <td>Unfurnished</td>\n",
       "      <td>Bachelors</td>\n",
       "      <td>2</td>\n",
       "      <td>Contact Owner</td>\n",
       "    </tr>\n",
       "  </tbody>\n",
       "</table>\n",
       "<p>3119 rows × 11 columns</p>\n",
       "</div>"
      ],
      "text/plain": [
       "      BHK   Rent  Size            Floor    Area Type  \\\n",
       "0       2  10000  1100  Ground out of 2   Super Area   \n",
       "1       2  20000   800       1 out of 3   Super Area   \n",
       "2       2  17000  1000       1 out of 3   Super Area   \n",
       "3       2  10000   800       1 out of 2   Super Area   \n",
       "6       2  10000   700  Ground out of 4   Super Area   \n",
       "...   ...    ...   ...              ...          ...   \n",
       "4741    2  15000  1000       3 out of 5  Carpet Area   \n",
       "4742    3  29000  2000       1 out of 4   Super Area   \n",
       "4743    3  35000  1750       3 out of 5  Carpet Area   \n",
       "4744    3  45000  1500     23 out of 34  Carpet Area   \n",
       "4745    2  15000  1000       4 out of 5  Carpet Area   \n",
       "\n",
       "                   Area Locality       City Furnishing Status  \\\n",
       "0                       \"Bandel\"    Kolkata       Unfurnished   \n",
       "1     \"Phool Bagan, Kankurgachi\"    Kolkata    Semi-Furnished   \n",
       "2      \"Salt Lake City Sector 2\"    Kolkata    Semi-Furnished   \n",
       "3                  \"Dumdum Park\"    Kolkata       Unfurnished   \n",
       "6                     \"Malancha\"    Kolkata       Unfurnished   \n",
       "...                          ...        ...               ...   \n",
       "4741              \"Bandam Kommu\"  Hyderabad    Semi-Furnished   \n",
       "4742      \"Manikonda, Hyderabad\"  Hyderabad    Semi-Furnished   \n",
       "4743      \"Himayath Nagar, NH 7\"  Hyderabad    Semi-Furnished   \n",
       "4744                \"Gachibowli\"  Hyderabad    Semi-Furnished   \n",
       "4745           \"Suchitra Circle\"  Hyderabad       Unfurnished   \n",
       "\n",
       "      Tenant Preferred  Bathroom Point of Contact  \n",
       "0     Bachelors/Family         2    Contact Owner  \n",
       "1     Bachelors/Family         1    Contact Owner  \n",
       "2     Bachelors/Family         1    Contact Owner  \n",
       "3     Bachelors/Family         1    Contact Owner  \n",
       "6            Bachelors         2    Contact Agent  \n",
       "...                ...       ...              ...  \n",
       "4741  Bachelors/Family         2    Contact Owner  \n",
       "4742  Bachelors/Family         3    Contact Owner  \n",
       "4743  Bachelors/Family         3    Contact Agent  \n",
       "4744            Family         2    Contact Agent  \n",
       "4745         Bachelors         2    Contact Owner  \n",
       "\n",
       "[3119 rows x 11 columns]"
      ]
     },
     "execution_count": 425,
     "metadata": {},
     "output_type": "execute_result"
    }
   ],
   "source": [
    "final_data = no_rent_outliers.drop(columns=['Posted On'])\n",
    "final_data # this will now be the final dataset for the model"
   ]
  },
  {
   "cell_type": "code",
   "execution_count": 426,
   "id": "731bef21",
   "metadata": {},
   "outputs": [],
   "source": [
    "def one_hot_encode(data, column):\n",
    "    encoded = pd.get_dummies(data[column], drop_first= True)\n",
    "    data = data.drop(column, axis = 1)\n",
    "    data = data.join(encoded)\n",
    "    return data"
   ]
  },
  {
   "cell_type": "code",
   "execution_count": 427,
   "id": "68bef443",
   "metadata": {},
   "outputs": [],
   "source": [
    "final_data = final_data.drop(columns=['Area Type', 'Area Locality', 'City', 'Tenant Preferred', 'Point of Contact', 'Floor'])"
   ]
  },
  {
   "cell_type": "code",
   "execution_count": 428,
   "id": "c5b6d305",
   "metadata": {},
   "outputs": [
    {
     "data": {
      "text/html": [
       "<div>\n",
       "<style scoped>\n",
       "    .dataframe tbody tr th:only-of-type {\n",
       "        vertical-align: middle;\n",
       "    }\n",
       "\n",
       "    .dataframe tbody tr th {\n",
       "        vertical-align: top;\n",
       "    }\n",
       "\n",
       "    .dataframe thead th {\n",
       "        text-align: right;\n",
       "    }\n",
       "</style>\n",
       "<table border=\"1\" class=\"dataframe\">\n",
       "  <thead>\n",
       "    <tr style=\"text-align: right;\">\n",
       "      <th></th>\n",
       "      <th>BHK</th>\n",
       "      <th>Rent</th>\n",
       "      <th>Size</th>\n",
       "      <th>Bathroom</th>\n",
       "      <th>Semi-Furnished</th>\n",
       "      <th>Unfurnished</th>\n",
       "    </tr>\n",
       "  </thead>\n",
       "  <tbody>\n",
       "    <tr>\n",
       "      <th>0</th>\n",
       "      <td>2</td>\n",
       "      <td>10000</td>\n",
       "      <td>1100</td>\n",
       "      <td>2</td>\n",
       "      <td>False</td>\n",
       "      <td>True</td>\n",
       "    </tr>\n",
       "    <tr>\n",
       "      <th>1</th>\n",
       "      <td>2</td>\n",
       "      <td>20000</td>\n",
       "      <td>800</td>\n",
       "      <td>1</td>\n",
       "      <td>True</td>\n",
       "      <td>False</td>\n",
       "    </tr>\n",
       "    <tr>\n",
       "      <th>2</th>\n",
       "      <td>2</td>\n",
       "      <td>17000</td>\n",
       "      <td>1000</td>\n",
       "      <td>1</td>\n",
       "      <td>True</td>\n",
       "      <td>False</td>\n",
       "    </tr>\n",
       "    <tr>\n",
       "      <th>3</th>\n",
       "      <td>2</td>\n",
       "      <td>10000</td>\n",
       "      <td>800</td>\n",
       "      <td>1</td>\n",
       "      <td>False</td>\n",
       "      <td>True</td>\n",
       "    </tr>\n",
       "    <tr>\n",
       "      <th>6</th>\n",
       "      <td>2</td>\n",
       "      <td>10000</td>\n",
       "      <td>700</td>\n",
       "      <td>2</td>\n",
       "      <td>False</td>\n",
       "      <td>True</td>\n",
       "    </tr>\n",
       "    <tr>\n",
       "      <th>...</th>\n",
       "      <td>...</td>\n",
       "      <td>...</td>\n",
       "      <td>...</td>\n",
       "      <td>...</td>\n",
       "      <td>...</td>\n",
       "      <td>...</td>\n",
       "    </tr>\n",
       "    <tr>\n",
       "      <th>4741</th>\n",
       "      <td>2</td>\n",
       "      <td>15000</td>\n",
       "      <td>1000</td>\n",
       "      <td>2</td>\n",
       "      <td>True</td>\n",
       "      <td>False</td>\n",
       "    </tr>\n",
       "    <tr>\n",
       "      <th>4742</th>\n",
       "      <td>3</td>\n",
       "      <td>29000</td>\n",
       "      <td>2000</td>\n",
       "      <td>3</td>\n",
       "      <td>True</td>\n",
       "      <td>False</td>\n",
       "    </tr>\n",
       "    <tr>\n",
       "      <th>4743</th>\n",
       "      <td>3</td>\n",
       "      <td>35000</td>\n",
       "      <td>1750</td>\n",
       "      <td>3</td>\n",
       "      <td>True</td>\n",
       "      <td>False</td>\n",
       "    </tr>\n",
       "    <tr>\n",
       "      <th>4744</th>\n",
       "      <td>3</td>\n",
       "      <td>45000</td>\n",
       "      <td>1500</td>\n",
       "      <td>2</td>\n",
       "      <td>True</td>\n",
       "      <td>False</td>\n",
       "    </tr>\n",
       "    <tr>\n",
       "      <th>4745</th>\n",
       "      <td>2</td>\n",
       "      <td>15000</td>\n",
       "      <td>1000</td>\n",
       "      <td>2</td>\n",
       "      <td>False</td>\n",
       "      <td>True</td>\n",
       "    </tr>\n",
       "  </tbody>\n",
       "</table>\n",
       "<p>3119 rows × 6 columns</p>\n",
       "</div>"
      ],
      "text/plain": [
       "      BHK   Rent  Size  Bathroom  Semi-Furnished  Unfurnished\n",
       "0       2  10000  1100         2           False         True\n",
       "1       2  20000   800         1            True        False\n",
       "2       2  17000  1000         1            True        False\n",
       "3       2  10000   800         1           False         True\n",
       "6       2  10000   700         2           False         True\n",
       "...   ...    ...   ...       ...             ...          ...\n",
       "4741    2  15000  1000         2            True        False\n",
       "4742    3  29000  2000         3            True        False\n",
       "4743    3  35000  1750         3            True        False\n",
       "4744    3  45000  1500         2            True        False\n",
       "4745    2  15000  1000         2           False         True\n",
       "\n",
       "[3119 rows x 6 columns]"
      ]
     },
     "execution_count": 428,
     "metadata": {},
     "output_type": "execute_result"
    }
   ],
   "source": [
    "#final_data = one_hot_encode(final_data, 'Floor')\n",
    "#final_data = one_hot_encode(final_data, 'Area Type')\n",
    "##final_data = one_hot_encode(final_data, 'Area Locality')\n",
    "#final_data = one_hot_encode(final_data, 'City')\n",
    "final_data = one_hot_encode(final_data, 'Furnishing Status')\n",
    "#final_data = one_hot_encode(final_data, 'Tenant Preferred')\n",
    "#final_data = one_hot_encode(final_data, 'Point of Contact')\n",
    "final_data"
   ]
  },
  {
   "cell_type": "markdown",
   "id": "e82d4626",
   "metadata": {},
   "source": [
    "## Model Training\n",
    "## Training and Test Split"
   ]
  },
  {
   "cell_type": "code",
   "execution_count": 429,
   "id": "d7b43ea7",
   "metadata": {},
   "outputs": [],
   "source": [
    "X = final_data.drop('Rent', axis= 1)\n",
    "y = final_data['Rent']"
   ]
  },
  {
   "cell_type": "code",
   "execution_count": 430,
   "id": "b625bd17",
   "metadata": {},
   "outputs": [],
   "source": [
    "from sklearn.model_selection import train_test_split\n",
    "X_train, X_test, y_train, y_test = train_test_split(X, y, test_size= 0.2, random_state = 42)"
   ]
  },
  {
   "cell_type": "markdown",
   "id": "0e0ef003",
   "metadata": {},
   "source": [
    "## Standardize the Values"
   ]
  },
  {
   "cell_type": "code",
   "execution_count": 431,
   "id": "f21f6ea2",
   "metadata": {},
   "outputs": [],
   "source": [
    "from sklearn.preprocessing import StandardScaler\n",
    "\n",
    "sc = StandardScaler()\n",
    "X_train = sc.fit_transform(X_train)\n",
    "X_test = sc.transform(X_test)"
   ]
  },
  {
   "cell_type": "code",
   "execution_count": 432,
   "id": "5b30d2b3",
   "metadata": {},
   "outputs": [
    {
     "data": {
      "text/plain": [
       "array([  424.76487122,  1061.96471513,  2785.78895596, -1677.15686745,\n",
       "       -2070.20271601])"
      ]
     },
     "execution_count": 432,
     "metadata": {},
     "output_type": "execute_result"
    }
   ],
   "source": [
    "from sklearn import linear_model\n",
    "model = linear_model.LinearRegression()\n",
    "model.fit(X_train, y_train)\n",
    "model.coef_"
   ]
  },
  {
   "cell_type": "markdown",
   "id": "0e38c1da",
   "metadata": {},
   "source": [
    "## Evaluation"
   ]
  },
  {
   "cell_type": "markdown",
   "id": "b36b1f27",
   "metadata": {},
   "source": [
    "### Quantitative Evaluation"
   ]
  },
  {
   "cell_type": "code",
   "execution_count": 433,
   "id": "178e4c71",
   "metadata": {},
   "outputs": [],
   "source": [
    "y_preds = model.predict(X_test)"
   ]
  },
  {
   "cell_type": "code",
   "execution_count": 434,
   "id": "a3777a71",
   "metadata": {},
   "outputs": [
    {
     "name": "stdout",
     "output_type": "stream",
     "text": [
      "Coefficients: \n",
      " [  424.76487122  1061.96471513  2785.78895596 -1677.15686745\n",
      " -2070.20271601]\n",
      "Mean squared error: 76163991.84\n",
      "Coefficient of determination: 0.19\n"
     ]
    }
   ],
   "source": [
    "from sklearn.metrics import mean_squared_error, r2_score\n",
    "\n",
    "# The coefficients\n",
    "print(\"Coefficients: \\n\", model.coef_)\n",
    "# The mean squared error\n",
    "print(\"Mean squared error: %.2f\" % mean_squared_error(y_test, y_preds))\n",
    "# The coefficient of determination: 1 is perfect prediction\n",
    "print(\"Coefficient of determination: %.2f\" % r2_score(y_test, y_preds))"
   ]
  },
  {
   "cell_type": "markdown",
   "id": "5b6038c5",
   "metadata": {},
   "source": [
    "### Qualitative Evaluation"
   ]
  },
  {
   "cell_type": "code",
   "execution_count": 435,
   "id": "075b2fdc",
   "metadata": {},
   "outputs": [
    {
     "data": {
      "text/plain": [
       "BHK                   2\n",
       "Size               1100\n",
       "Bathroom              2\n",
       "Semi-Furnished    False\n",
       "Unfurnished        True\n",
       "Name: 0, dtype: object"
      ]
     },
     "execution_count": 435,
     "metadata": {},
     "output_type": "execute_result"
    }
   ],
   "source": [
    "sample_data = X.iloc[0]\n",
    "sample_data"
   ]
  },
  {
   "cell_type": "code",
   "execution_count": 436,
   "id": "847ea9e8",
   "metadata": {},
   "outputs": [
    {
     "name": "stderr",
     "output_type": "stream",
     "text": [
      "c:\\Users\\Shaun Padrejuan\\AppData\\Local\\Programs\\Python\\Python312\\Lib\\site-packages\\sklearn\\base.py:493: UserWarning: X does not have valid feature names, but StandardScaler was fitted with feature names\n",
      "  warnings.warn(\n"
     ]
    }
   ],
   "source": [
    "sample_data_standardized = sc.transform(X.iloc[0].values.reshape(1,-1))"
   ]
  },
  {
   "cell_type": "code",
   "execution_count": 437,
   "id": "6d42495f",
   "metadata": {},
   "outputs": [
    {
     "data": {
      "text/plain": [
       "18028.93905955575"
      ]
     },
     "execution_count": 437,
     "metadata": {},
     "output_type": "execute_result"
    }
   ],
   "source": [
    "model_rent_forecast = model.predict(sample_data_standardized)[0]\n",
    "model_rent_forecast"
   ]
  },
  {
   "cell_type": "code",
   "execution_count": 438,
   "id": "c0e1bf55",
   "metadata": {},
   "outputs": [
    {
     "data": {
      "text/plain": [
       "10000"
      ]
     },
     "execution_count": 438,
     "metadata": {},
     "output_type": "execute_result"
    }
   ],
   "source": [
    "y.iloc[0]"
   ]
  }
 ],
 "metadata": {
  "kernelspec": {
   "display_name": "Python 3 (ipykernel)",
   "language": "python",
   "name": "python3"
  },
  "language_info": {
   "codemirror_mode": {
    "name": "ipython",
    "version": 3
   },
   "file_extension": ".py",
   "mimetype": "text/x-python",
   "name": "python",
   "nbconvert_exporter": "python",
   "pygments_lexer": "ipython3",
   "version": "3.12.1"
  }
 },
 "nbformat": 4,
 "nbformat_minor": 5
}
